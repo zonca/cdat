{
 "cells": [
  {
   "cell_type": "code",
   "execution_count": null,
   "id": "eda5bbf8-e145-4794-a6c4-ec42d713aebe",
   "metadata": {},
   "outputs": [],
   "source": [
    "# default_exp daskutils"
   ]
  },
  {
   "cell_type": "code",
   "execution_count": null,
   "id": "307262b6-6496-4a47-bf10-78d29973689c",
   "metadata": {},
   "outputs": [],
   "source": [
    "# hide\n",
    "from nbdev.showdoc import *"
   ]
  },
  {
   "cell_type": "code",
   "execution_count": null,
   "id": "9c97c6d1-e185-4c7f-a9e1-7c793fd512e8",
   "metadata": {},
   "outputs": [],
   "source": [
    "# export\n",
    "\n",
    "import dask.array as da\n",
    "\n",
    "\n",
    "def dask_memory_usage_GB(dask_object):\n",
    "    return dask_object.memory_usage(deep=True).compute().sum() / 1024**3\n",
    "\n",
    "\n",
    "def dask_histogram(dask_dataframe, column, bins, bins_range):\n",
    "    histogram, bins = da.histogram(\n",
    "        dask_dataframe[column].to_dask_array(), bins=bins, range=bins_range\n",
    "    )\n",
    "    centroids = bins[:-1] + (bins[1] - bins[0]) / 2\n",
    "    return centroids, histogram"
   ]
  },
  {
   "cell_type": "code",
   "execution_count": null,
   "id": "46615491-4537-4972-b3b7-30f9f046a3e5",
   "metadata": {},
   "outputs": [],
   "source": [
    "# export\n",
    "\n",
    "def dask_histogram2d(dask_dataframe, x, y, bins, bins_range):\n",
    "    histogram, bins_x, bins_y = da.histogram2d(\n",
    "        dask_dataframe[x].to_dask_array(), dask_dataframe[y].to_dask_array(), bins=bins, range=bins_range\n",
    "    )\n",
    "    return histogram"
   ]
  }
 ],
 "metadata": {
  "kernelspec": {
   "display_name": "Python 3 (ipykernel)",
   "language": "python",
   "name": "python3"
  }
 },
 "nbformat": 4,
 "nbformat_minor": 5
}
